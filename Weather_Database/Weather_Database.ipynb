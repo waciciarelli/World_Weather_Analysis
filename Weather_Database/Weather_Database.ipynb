{
 "cells": [
  {
   "cell_type": "markdown",
   "metadata": {},
   "source": [
    "# Deliverable 1. Retrieve Weather Data.\n",
    "---\n",
    "1. Create a folder called `Weather_Database` to save all the files related with this deliverable.\n",
    "\n",
    "2. Save the `Weather_Database_starter_code.ipynb` starter code to the `Weather_Database` folder and rename it as `Weather_Database.ipynb`.\n",
    "\n",
    "3. Use the `np.random.uniform` function to generate a new set of 2,000 random latitudes and 2,000 longitudes.\n",
    "\n",
    "4. Use the `citipy` module to get the nearest city for each latitude and longitude combination.\n",
    "\n",
    "5. Import your OpenWeatherMap's API key and assemble the API call URL as a string variable. Recall to edit the `config.py` file to add your API key; also, it's critical to avoid publishing your API key on your GitHub repository.\n",
    "\n",
    "6. Retrieve the following information from the API call:\n",
    "\n",
    "    * Latitude and longitude\n",
    "\n",
    "    * Maximum temperature\n",
    "\n",
    "    * Percent humidity\n",
    "\n",
    "    * Percent cloudiness\n",
    "\n",
    "    * Wind speed\n",
    "\n",
    "    * Weather description (for example, clouds, fog, light rain, clear sky)\n",
    "\n",
    "7. Add the weather data to a new DataFrame.\n",
    "\n",
    "8. Export the DataFrame as a CSV file, and save it as `WeatherPy_Database.csv` in the `Weather_Database` folder.\n",
    "---"
   ]
  },
  {
   "cell_type": "code",
   "execution_count": 1,
   "metadata": {},
   "outputs": [],
   "source": [
    "# Import initial libraries\n",
    "import numpy as np\n",
    "import pandas as pd\n",
    "from citipy import citipy"
   ]
  },
  {
   "cell_type": "markdown",
   "metadata": {},
   "source": [
    "## Use the `np.random.uniform` function to generate a new set of 2,000 random latitudes and 2,000 longitudes."
   ]
  },
  {
   "cell_type": "code",
   "execution_count": 2,
   "metadata": {},
   "outputs": [
    {
     "data": {
      "text/plain": [
       "<zip at 0x1f3dfe94588>"
      ]
     },
     "execution_count": 2,
     "metadata": {},
     "output_type": "execute_result"
    }
   ],
   "source": [
    "# Create a set of random latitude and longitude combinations\n",
    "lats = np.random.uniform(low=-90.000, high=90.000, size=1500)\n",
    "lngs = np.random.uniform(low=-180.000, high=180.000, size=1500)\n",
    "\n",
    "# Use the zip function to create an iterator of tuples containing the latitude and longitude combinations\n",
    "lat_lngs = zip(lats, lngs)\n",
    "lat_lngs"
   ]
  },
  {
   "cell_type": "code",
   "execution_count": 3,
   "metadata": {},
   "outputs": [],
   "source": [
    "# Add the latitudes and longitudes to a list\n",
    "coordinates = list(lat_lngs)\n",
    "#for coordinate in coordinates:\n",
    "#    print(coordinate[0], coordinate[1])"
   ]
  },
  {
   "cell_type": "markdown",
   "metadata": {},
   "source": [
    "## Use the `citipy` module to get the nearest city for each latitude and longitude combination."
   ]
  },
  {
   "cell_type": "code",
   "execution_count": 4,
   "metadata": {},
   "outputs": [
    {
     "data": {
      "text/plain": [
       "616"
      ]
     },
     "execution_count": 4,
     "metadata": {},
     "output_type": "execute_result"
    }
   ],
   "source": [
    "# Create an empty list for holding the cities\n",
    "cities = []\n",
    "\n",
    "# Use a for loop to identify nearest city for each latitude and longitude combination using the citipy module\n",
    "for coordinate in coordinates:\n",
    "    # Use the citipy module to identify the nearest city to the current coordinate\n",
    "    city = citipy.nearest_city(coordinate[0], coordinate[1]).city_name\n",
    "    \n",
    "    # If the city is unique, then add it to a our cities list\n",
    "    if city not in cities:\n",
    "        cities.append(city)\n",
    "\n",
    "# Print the city count to confirm sufficient count\n",
    "len(cities)"
   ]
  },
  {
   "cell_type": "markdown",
   "metadata": {},
   "source": [
    "## Import your OpenWeatherMap's API key and assemble the API call URL as a string variable. Recall to edit the `config.py` file to add your API key."
   ]
  },
  {
   "cell_type": "code",
   "execution_count": 5,
   "metadata": {},
   "outputs": [],
   "source": [
    "# Import the requests library\n",
    "import requests\n",
    "\n",
    "# Import the time library\n",
    "import time\n",
    "\n",
    "# Import the datetime module from the datetime library\n",
    "from datetime import datetime\n",
    "\n",
    "# Import the OpenWeatherMap's API key\n",
    "from config import weather_api_key"
   ]
  },
  {
   "cell_type": "code",
   "execution_count": 6,
   "metadata": {},
   "outputs": [],
   "source": [
    "# Assemble the OpenWeatherMap's API call\n",
    "url = \"http://api.openweathermap.org/data/2.5/weather?units=Imperial&APPID=\" + weather_api_key"
   ]
  },
  {
   "cell_type": "markdown",
   "metadata": {},
   "source": [
    "## Retrieve the following information from the API call.\n",
    "\n",
    "- The latitude and longitude\n",
    "- The Max temperature\n",
    "- The % humidity\n",
    "- The % cloudiness\n",
    "- The Wind speed\n",
    "- The Weather description, i.e., cloudy, fog, light rain, clear sky, etc. "
   ]
  },
  {
   "cell_type": "code",
   "execution_count": null,
   "metadata": {},
   "outputs": [
    {
     "name": "stdout",
     "output_type": "stream",
     "text": [
      "Beginning Data Retrieval     \n",
      "-----------------------------\n",
      "Processing Record 1 of Set 1 | barentsburg\n",
      "City not found. Skipping...\n",
      "Processing Record 2 of Set 1 | kibala\n",
      "Processing Record 3 of Set 1 | fairbanks\n",
      "Processing Record 4 of Set 1 | hithadhoo\n",
      "Processing Record 5 of Set 1 | novouzensk\n",
      "Processing Record 6 of Set 1 | fez\n",
      "Processing Record 7 of Set 1 | qaanaaq\n",
      "Processing Record 8 of Set 1 | bakchar\n",
      "Processing Record 9 of Set 1 | carnarvon\n",
      "Processing Record 10 of Set 1 | opuwo\n",
      "Processing Record 11 of Set 1 | ushuaia\n",
      "Processing Record 12 of Set 1 | bethel\n",
      "Processing Record 13 of Set 1 | gobabis\n",
      "Processing Record 14 of Set 1 | punta arenas\n",
      "Processing Record 15 of Set 1 | illoqqortoormiut\n",
      "City not found. Skipping...\n",
      "Processing Record 16 of Set 1 | laguna\n",
      "Processing Record 17 of Set 1 | isangel\n",
      "Processing Record 18 of Set 1 | kapaa\n",
      "Processing Record 19 of Set 1 | nucet\n",
      "Processing Record 20 of Set 1 | hamilton\n",
      "Processing Record 21 of Set 1 | salalah\n",
      "Processing Record 22 of Set 1 | jamestown\n",
      "Processing Record 23 of Set 1 | petropavlovsk-kamchatskiy\n",
      "Processing Record 24 of Set 1 | bin qirdan\n",
      "Processing Record 25 of Set 1 | college\n",
      "Processing Record 26 of Set 1 | hilo\n",
      "Processing Record 27 of Set 1 | warah\n",
      "Processing Record 28 of Set 1 | tuktoyaktuk\n",
      "Processing Record 29 of Set 1 | saint-philippe\n",
      "Processing Record 30 of Set 1 | palma\n",
      "Processing Record 31 of Set 1 | ancud\n",
      "Processing Record 32 of Set 1 | along\n",
      "Processing Record 33 of Set 1 | bereznik\n",
      "Processing Record 34 of Set 1 | vao\n",
      "Processing Record 35 of Set 1 | cidreira\n",
      "Processing Record 36 of Set 1 | rikitea\n",
      "Processing Record 37 of Set 1 | mataura\n",
      "Processing Record 38 of Set 1 | waingapu\n",
      "Processing Record 39 of Set 1 | hervey bay\n",
      "Processing Record 40 of Set 1 | busselton\n",
      "Processing Record 41 of Set 1 | albany\n",
      "Processing Record 42 of Set 1 | sur\n",
      "Processing Record 43 of Set 1 | carutapera\n",
      "Processing Record 44 of Set 1 | oxbow\n",
      "Processing Record 45 of Set 1 | castro\n",
      "Processing Record 46 of Set 1 | tarudant\n",
      "City not found. Skipping...\n",
      "Processing Record 47 of Set 1 | omsukchan\n",
      "Processing Record 48 of Set 1 | kaitangata\n",
      "Processing Record 49 of Set 1 | leningradskiy\n",
      "Processing Record 50 of Set 1 | vaini\n",
      "Processing Record 1 of Set 2 | nosy varika\n",
      "Processing Record 2 of Set 2 | cape town\n",
      "Processing Record 3 of Set 2 | torbat-e jam\n",
      "Processing Record 4 of Set 2 | hofn\n",
      "Processing Record 5 of Set 2 | mar del plata\n",
      "Processing Record 6 of Set 2 | upernavik\n",
      "Processing Record 7 of Set 2 | chake chake\n",
      "Processing Record 8 of Set 2 | deh rawud\n",
      "City not found. Skipping...\n",
      "Processing Record 9 of Set 2 | codrington\n",
      "Processing Record 10 of Set 2 | ecoporanga\n",
      "Processing Record 11 of Set 2 | narsaq\n",
      "Processing Record 12 of Set 2 | jiayuguan\n",
      "Processing Record 13 of Set 2 | port alfred\n",
      "Processing Record 14 of Set 2 | black river\n",
      "Processing Record 15 of Set 2 | plettenberg bay\n",
      "Processing Record 16 of Set 2 | barrow\n",
      "Processing Record 17 of Set 2 | cantaura\n",
      "Processing Record 18 of Set 2 | piopio\n",
      "Processing Record 19 of Set 2 | conceicao do araguaia\n",
      "Processing Record 20 of Set 2 | muros\n",
      "Processing Record 21 of Set 2 | labuhan\n",
      "Processing Record 22 of Set 2 | nhulunbuy\n",
      "Processing Record 23 of Set 2 | mount isa\n",
      "Processing Record 24 of Set 2 | turukhansk\n",
      "Processing Record 25 of Set 2 | malkangiri\n",
      "Processing Record 26 of Set 2 | lethem\n",
      "Processing Record 27 of Set 2 | tiksi\n",
      "Processing Record 28 of Set 2 | anton lizardo\n",
      "Processing Record 29 of Set 2 | hay river\n",
      "Processing Record 30 of Set 2 | mountmellick\n",
      "Processing Record 31 of Set 2 | kieta\n",
      "Processing Record 32 of Set 2 | georgetown\n",
      "Processing Record 33 of Set 2 | worland\n",
      "Processing Record 34 of Set 2 | atuona\n",
      "Processing Record 35 of Set 2 | saldanha\n",
      "Processing Record 36 of Set 2 | hasaki\n",
      "Processing Record 37 of Set 2 | nikolskoye\n"
     ]
    }
   ],
   "source": [
    "# Create an empty list to hold weather data for each city\n",
    "city_data = []\n",
    "\n",
    "# Print a message to indicate that the data retrieval starts\n",
    "print(\"Beginning Data Retrieval     \")\n",
    "print(\"-----------------------------\")\n",
    "\n",
    "# Create counters and set them to 1\n",
    "record_count = 1\n",
    "set_count = 1\n",
    "\n",
    "# Loop through all the cities in our list to fetch weather data for each city\n",
    "for i, city in enumerate(cities):\n",
    "        \n",
    "    # Group cities in sets of 50 for logging purposes\n",
    "    if (i % 50 == 0 and i >= 50):\n",
    "        set_count += 1\n",
    "        record_count = 1\n",
    "        time.sleep(60)\n",
    "\n",
    "    # Create an endpoint URL for each city\n",
    "    city_url = url + \"&q=\" + city.replace(\" \",\"+\")\n",
    "    \n",
    "    # Log the url, record, and set numbers\n",
    "    print(f\"Processing Record {record_count} of Set {set_count} | {city}\")\n",
    "\n",
    "    # Add 1 to the record count\n",
    "    record_count += 1\n",
    "\n",
    "    # Run an API request for each of the cities\n",
    "    try:\n",
    "        city_weather = requests.get(city_url).json()\n",
    "        # Parse out the latitude, longitude, max temp, humidity, cloudiness, wind, country, and weather description\n",
    "        city_lat = city_weather[\"coord\"][\"lat\"]\n",
    "        city_lng = city_weather[\"coord\"][\"lon\"]\n",
    "        city_desc = city_weather[\"weather\"][0][\"description\"]\n",
    "        city_max_temp = city_weather[\"main\"][\"temp_max\"]\n",
    "        city_humidity = city_weather[\"main\"][\"humidity\"]\n",
    "        city_clouds = city_weather[\"clouds\"][\"all\"]\n",
    "        city_wind = city_weather[\"wind\"][\"speed\"]\n",
    "        city_country = city_weather[\"sys\"][\"country\"]     \n",
    "        \n",
    "        # Append the city information into the city_data list\n",
    "        city_data.append({\"City\": city.title(),\n",
    "                          \"Lat\": city_lat,\n",
    "                          \"Lng\": city_lng,\n",
    "                          \"Weather Description\": city_desc,\n",
    "                          \"Max Temp\": city_max_temp,\n",
    "                          \"Humidity\": city_humidity,\n",
    "                          \"Cloudiness\": city_clouds,\n",
    "                          \"Wind Speed\": city_wind,\n",
    "                          \"Country\": city_country})\n",
    "        \n",
    "        \n",
    "    \n",
    "    # If an error is experienced, skip the city\n",
    "    except:\n",
    "        print(\"City not found. Skipping...\")\n",
    "        pass\n",
    "\n",
    "# Indicate that the data retrieval is complete \n",
    "print(\"-----------------------------\")\n",
    "print(\"Data Retrieval Complete      \")\n",
    "print(\"-----------------------------\")"
   ]
  },
  {
   "cell_type": "code",
   "execution_count": null,
   "metadata": {},
   "outputs": [],
   "source": [
    "# Print the length of the city_data list to verify how many cities you have\n",
    "len(city_data)"
   ]
  },
  {
   "cell_type": "markdown",
   "metadata": {},
   "source": [
    "## Add the weather data to a new DataFrame."
   ]
  },
  {
   "cell_type": "code",
   "execution_count": null,
   "metadata": {},
   "outputs": [],
   "source": [
    "# Use the city_data list to create a new pandas DataFrame.\n",
    "city_data_df = pd.DataFrame(city_data)"
   ]
  },
  {
   "cell_type": "code",
   "execution_count": null,
   "metadata": {},
   "outputs": [],
   "source": [
    "# Display sample data\n",
    "city_data_df.head(10)"
   ]
  },
  {
   "cell_type": "code",
   "execution_count": null,
   "metadata": {},
   "outputs": [],
   "source": [
    "# Display the DataFrame's column names using the columns Pandas function\n",
    "city_data_df.columns"
   ]
  },
  {
   "cell_type": "code",
   "execution_count": null,
   "metadata": {},
   "outputs": [],
   "source": [
    "# Create a list to reorder the column names as follows:\n",
    "# \"City\", \"Country\", \"Lat\", \"Lng\", \"Max Temp\", \"Humidity\",  \"Cloudiness\", \"Wind Speed\",  \"Current Description\"\n",
    "cols = [\"City\", \"Country\", \"Lat\", \"Lng\", \"Max Temp\", \"Humidity\",  \"Cloudiness\", \"Wind Speed\",  \"Weather Description\"]\n",
    "\n",
    "# Recreate the DataFrame by using the new column order\n",
    "city_data_df = city_data_df[cols]\n",
    "\n",
    "# Display sample data\n",
    "city_data_df.head(10)"
   ]
  },
  {
   "cell_type": "code",
   "execution_count": null,
   "metadata": {},
   "outputs": [],
   "source": [
    "# Display the data types of each column by using the dtypes Pandas function\n",
    "city_data_df.dtypes"
   ]
  },
  {
   "cell_type": "markdown",
   "metadata": {},
   "source": [
    "## Export the DataFrame as a CSV file, and save it as `WeatherPy_Database.csv` in the `Weather_Database` folder."
   ]
  },
  {
   "cell_type": "code",
   "execution_count": null,
   "metadata": {},
   "outputs": [],
   "source": [
    "# Set the output file name\n",
    "output_data_file = \"WeatherPy_Database.csv\"\n",
    "\n",
    "# Export the city_data DataFrame into a CSV file\n",
    "city_data_df.to_csv(output_data_file, index_label=\"City_ID\")"
   ]
  },
  {
   "cell_type": "code",
   "execution_count": null,
   "metadata": {},
   "outputs": [],
   "source": []
  }
 ],
 "metadata": {
  "kernelspec": {
   "display_name": "Python 3 (ipykernel)",
   "language": "python",
   "name": "python3"
  },
  "language_info": {
   "codemirror_mode": {
    "name": "ipython",
    "version": 3
   },
   "file_extension": ".py",
   "mimetype": "text/x-python",
   "name": "python",
   "nbconvert_exporter": "python",
   "pygments_lexer": "ipython3",
   "version": "3.7.13"
  }
 },
 "nbformat": 4,
 "nbformat_minor": 4
}
